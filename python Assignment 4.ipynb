{
 "cells": [
  {
   "cell_type": "code",
   "execution_count": null,
   "id": "515cf8ca",
   "metadata": {},
   "outputs": [],
   "source": [
    "#create a program that finds the largest of 3 numbers entered by the user"
   ]
  },
  {
   "cell_type": "code",
   "execution_count": null,
   "id": "af3c8f55",
   "metadata": {},
   "outputs": [],
   "source": [
    "num1 = int(input(\"Enter the first number:\"))\n",
    "num2 = int(input(\"Enter the second number:\"))\n",
    "num3 = int(input(\"Enter the third number:\"))\n",
    "\n",
    "if num1 > num2 and num1 > num3:\n",
    "   print(num1, \"is the largest\") \n",
    "   print(f)\n",
    "elif num2 > num1 and num2 > num3:\n",
    "   print(num2, \"is the largest\") \n",
    "elif: num3 > num1 > and num3 > num2:\n",
    "     print(num3, \"is the largest\") \n",
    "else:\n",
    "   \n",
    "print(\"no largest found\")"
   ]
  },
  {
   "cell_type": "code",
   "execution_count": null,
   "id": "f3f16a8b",
   "metadata": {},
   "outputs": [],
   "source": []
  },
  {
   "cell_type": "code",
   "execution_count": null,
   "id": "7ba861ce",
   "metadata": {},
   "outputs": [],
   "source": [
    "#Create a function that extracts the last four digits from the input entered by the user"
   ]
  },
  {
   "cell_type": "code",
   "execution_count": null,
   "id": "ca2b9380",
   "metadata": {},
   "outputs": [],
   "source": [
    "number = input(\"Enter some didgits\")\n",
    "def last_four(x):\n",
    "    return str(x)[-4:]\n",
    "last_four(number)\n",
    "\n",
    "\n",
    "\n",
    "def extract_last_four(input_str):\n",
    "    # Check if the input string is at least 4 characters long\n",
    "    if len(input_str) < 4:\n",
    "        return \"Input string must be at least 4 characters long\"\n",
    "    else:\n",
    "        # Extract the last four characters from the input string\n",
    "        last_four = input_str[-4:]\n",
    "        return last_four"
   ]
  },
  {
   "cell_type": "code",
   "execution_count": null,
   "id": "b5a7a853",
   "metadata": {},
   "outputs": [],
   "source": []
  },
  {
   "cell_type": "code",
   "execution_count": null,
   "id": "0a6cfe4c",
   "metadata": {},
   "outputs": [],
   "source": [
    "#Create a program that accepts 2 numbers and an operator eg. 5 6, \n",
    "+ then perform an operation based on what the user enters eg 5 + 6 if the user enters 2, 8, \n",
    "* it should return 2 * 8 and show the answer"
   ]
  },
  {
   "cell_type": "code",
   "execution_count": null,
   "id": "68219113",
   "metadata": {},
   "outputs": [],
   "source": [
    "num1 = int(input(\"Enter the first number:\"))\n",
    "num2 = int(input(\"Enter the second number:\"))\n",
    "operator = input(\"Enter an operator (+, -, *, /): \")\n",
    "\n",
    "if operator == \"+\":\n",
    "    print = (num1 + num2)\n",
    "elif operator == \"-\":\n",
    "    print = (num1 - num2)\n",
    "elif operator == \"*\":\n",
    "    print = (num1 * num2)\n",
    "elif operator == \"/\":\n",
    "    print = (num1 / num2)\n",
    "else:\n",
    "    print(\"Invalid operator\")\n",
    "   "
   ]
  },
  {
   "cell_type": "code",
   "execution_count": null,
   "id": "b5f47226",
   "metadata": {},
   "outputs": [],
   "source": []
  },
  {
   "cell_type": "code",
   "execution_count": null,
   "id": "37a6d322",
   "metadata": {},
   "outputs": [],
   "source": [
    "# create a program that takes a score and shows the grade based on the score\n",
    "eg.\n",
    "90 - 100 (\"Grade A\")\n",
    "70 - 89  (\"Grade B\")\n",
    "50 - 69 (\"Grade c\")\n",
    "30 - 49 (\"Grade E\")\n",
    "0 - 29  (\"Grade E\")"
   ]
  },
  {
   "cell_type": "code",
   "execution_count": null,
   "id": "f5e263e0",
   "metadata": {},
   "outputs": [],
   "source": [
    "score = int(input(\"Enter the score:\"))\n",
    "\n",
    "if score >= 90 and score <= 100:\n",
    "    print(\"Grade A\")\n",
    "elif score >= 70 and score <= 89:\n",
    "     print(\"Grade B\")\n",
    "elif score >= 50 and score <= 69:\n",
    "     print(\"Grade C\")\n",
    "elif score >= 30 and score <= 49:\n",
    "     print(\"Grade D\")\n",
    "elif score >= 0 and score <= 29:\n",
    "     print(\"Grade E\")\n",
    "else:\n",
    "     print (\"invalid score\")\n"
   ]
  },
  {
   "cell_type": "code",
   "execution_count": null,
   "id": "8822a8d5",
   "metadata": {},
   "outputs": [],
   "source": []
  },
  {
   "cell_type": "code",
   "execution_count": null,
   "id": "5795776b",
   "metadata": {},
   "outputs": [],
   "source": [
    "#. create a guessing game. generate a number that is stored in a variable and let the user guess the number.\n",
    "If they guess correctly, tell them they are correct.\n",
    "if higher than the number tell them it is higher. if lower tell them their guess is lower.\n"
   ]
  },
  {
   "cell_type": "code",
   "execution_count": null,
   "id": "018f1c84",
   "metadata": {},
   "outputs": [],
   "source": [
    "import random\n",
    "\n",
    "# generate a random number between 1 and 10\n",
    "number = random.randint(1, 10)\n",
    "\n",
    "# prompt the user to guess the number\n",
    "guess = int(input(\"Guess the secret number between 1 and 10\"))\n",
    "if guess > number:\n",
    "        print(\"Your guess is higher\")\n",
    "elif guess < number:\n",
    "        print(\"Your guess is lower\")\n",
    "elif guess == number:\n",
    "   print(\"you win\")\n",
    "else:\n",
    "    print (\"invalid entry\")\n",
    "\n"
   ]
  },
  {
   "cell_type": "code",
   "execution_count": null,
   "id": "fa604f3c",
   "metadata": {},
   "outputs": [],
   "source": []
  },
  {
   "cell_type": "code",
   "execution_count": null,
   "id": "9a341a01",
   "metadata": {},
   "outputs": [],
   "source": []
  }
 ],
 "metadata": {
  "kernelspec": {
   "display_name": "Python 3 (ipykernel)",
   "language": "python",
   "name": "python3"
  },
  "language_info": {
   "codemirror_mode": {
    "name": "ipython",
    "version": 3
   },
   "file_extension": ".py",
   "mimetype": "text/x-python",
   "name": "python",
   "nbconvert_exporter": "python",
   "pygments_lexer": "ipython3",
   "version": "3.9.7"
  }
 },
 "nbformat": 4,
 "nbformat_minor": 5
}
